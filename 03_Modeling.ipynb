{
 "cells": [
  {
   "cell_type": "code",
   "execution_count": 1,
   "id": "75377f55-8a05-4963-90a4-52351404e24e",
   "metadata": {},
   "outputs": [],
   "source": [
    "# Import libraries\n",
    "import torch\n",
    "import torch.nn as nn\n",
    "import pandas as pd\n",
    "import numpy as np\n",
    "import warnings\n",
    "warnings.filterwarnings(\"ignore\", category=Warning)"
   ]
  },
  {
   "cell_type": "code",
   "execution_count": 2,
   "id": "119de6e6-53ab-416f-b8cc-3e72d902a487",
   "metadata": {},
   "outputs": [
    {
     "data": {
      "text/html": [
       "<div>\n",
       "<style scoped>\n",
       "    .dataframe tbody tr th:only-of-type {\n",
       "        vertical-align: middle;\n",
       "    }\n",
       "\n",
       "    .dataframe tbody tr th {\n",
       "        vertical-align: top;\n",
       "    }\n",
       "\n",
       "    .dataframe thead th {\n",
       "        text-align: right;\n",
       "    }\n",
       "</style>\n",
       "<table border=\"1\" class=\"dataframe\">\n",
       "  <thead>\n",
       "    <tr style=\"text-align: right;\">\n",
       "      <th></th>\n",
       "      <th>Gender_Mapped</th>\n",
       "      <th>Age_Scaled</th>\n",
       "      <th>Sqrt_Salary_Scaled</th>\n",
       "      <th>Purchased</th>\n",
       "    </tr>\n",
       "  </thead>\n",
       "  <tbody>\n",
       "    <tr>\n",
       "      <th>0</th>\n",
       "      <td>1</td>\n",
       "      <td>-1.781797</td>\n",
       "      <td>-1.785227</td>\n",
       "      <td>0</td>\n",
       "    </tr>\n",
       "    <tr>\n",
       "      <th>1</th>\n",
       "      <td>1</td>\n",
       "      <td>-0.253587</td>\n",
       "      <td>-1.730989</td>\n",
       "      <td>0</td>\n",
       "    </tr>\n",
       "    <tr>\n",
       "      <th>2</th>\n",
       "      <td>0</td>\n",
       "      <td>-1.113206</td>\n",
       "      <td>-0.732165</td>\n",
       "      <td>0</td>\n",
       "    </tr>\n",
       "    <tr>\n",
       "      <th>3</th>\n",
       "      <td>0</td>\n",
       "      <td>-1.017692</td>\n",
       "      <td>-0.256825</td>\n",
       "      <td>0</td>\n",
       "    </tr>\n",
       "    <tr>\n",
       "      <th>4</th>\n",
       "      <td>1</td>\n",
       "      <td>-1.781797</td>\n",
       "      <td>0.302609</td>\n",
       "      <td>0</td>\n",
       "    </tr>\n",
       "  </tbody>\n",
       "</table>\n",
       "</div>"
      ],
      "text/plain": [
       "   Gender_Mapped  Age_Scaled  Sqrt_Salary_Scaled  Purchased\n",
       "0              1   -1.781797           -1.785227          0\n",
       "1              1   -0.253587           -1.730989          0\n",
       "2              0   -1.113206           -0.732165          0\n",
       "3              0   -1.017692           -0.256825          0\n",
       "4              1   -1.781797            0.302609          0"
      ]
     },
     "execution_count": 2,
     "metadata": {},
     "output_type": "execute_result"
    }
   ],
   "source": [
    "# Load Data\n",
    "data = pd.read_csv(\"processed_data.txt\", sep=\"|\")\n",
    "data.head()"
   ]
  },
  {
   "cell_type": "code",
   "execution_count": 3,
   "id": "cd472872-7f74-4f08-99aa-49c19f55e176",
   "metadata": {},
   "outputs": [],
   "source": [
    "# Define features\n",
    "features = data[[\"Gender_Mapped\", \"Age_Scaled\", \"Sqrt_Salary_Scaled\"]]\n",
    "X = features.to_numpy()"
   ]
  },
  {
   "cell_type": "code",
   "execution_count": 4,
   "id": "9480ccae-37d4-4d81-8fda-f6c7c2b49e9e",
   "metadata": {},
   "outputs": [],
   "source": [
    "# Define target\n",
    "target = data[\"Purchased\"]\n",
    "y = target.to_numpy()"
   ]
  },
  {
   "cell_type": "code",
   "execution_count": 5,
   "id": "2d424f7f-0bad-49c4-90e3-f661d9b547c1",
   "metadata": {},
   "outputs": [],
   "source": [
    "# Transform target and features to tensors\n",
    "X = torch.tensor(X)\n",
    "y = torch.tensor(y)"
   ]
  },
  {
   "cell_type": "code",
   "execution_count": 6,
   "id": "dc210325-588b-491e-853e-bee1ebdafd30",
   "metadata": {},
   "outputs": [],
   "source": [
    "# Divide data into training and testing.\n",
    "from sklearn.model_selection import train_test_split\n",
    "X_train, X_test, y_train, y_test = train_test_split(X, y, test_size=0.05, random_state=35)"
   ]
  },
  {
   "cell_type": "code",
   "execution_count": 7,
   "id": "91147c7b-720e-49e5-9554-574209fb4b8a",
   "metadata": {},
   "outputs": [],
   "source": [
    "# Create model\n",
    "in_features = features.shape[1]\n",
    "out_features = 1\n",
    "\n",
    "model = nn.Sequential(\n",
    "    nn.Linear(in_features, out_features),\n",
    "    nn.Sigmoid()\n",
    ")"
   ]
  },
  {
   "cell_type": "code",
   "execution_count": 8,
   "id": "45af0574-259e-4cee-bbb3-e76c57a2bbdb",
   "metadata": {},
   "outputs": [],
   "source": [
    "# Created the dataset and the dataloader\n",
    "from torch.utils.data import TensorDataset, DataLoader\n",
    "\n",
    "dataset = TensorDataset(X_train.float(), y_train.float())\n",
    "dataloader = DataLoader(dataset, batch_size=10, shuffle=True)"
   ]
  },
  {
   "cell_type": "code",
   "execution_count": 9,
   "id": "2a1b2587-9ceb-4e7e-ab46-67a7cc31e957",
   "metadata": {},
   "outputs": [],
   "source": [
    "# Loss function\n",
    "criterion = nn.MSELoss()"
   ]
  },
  {
   "cell_type": "code",
   "execution_count": 10,
   "id": "791ac5b6-c31c-428a-843b-23c24fb1eddb",
   "metadata": {},
   "outputs": [],
   "source": [
    "# Create the optimizer\n",
    "import torch.optim as optim\n",
    "optimizer = optim.SGD(model.parameters(), lr=0.001, momentum=0.75)"
   ]
  },
  {
   "cell_type": "code",
   "execution_count": 11,
   "id": "e5e47bd5-7640-44f1-9f4e-17a2d94e6c0f",
   "metadata": {},
   "outputs": [
    {
     "name": "stdout",
     "output_type": "stream",
     "text": [
      "Finished epoch 9, latest loss 0.2895435094833374\n",
      "Finished epoch 19, latest loss 0.26771080493927\n",
      "Finished epoch 29, latest loss 0.24758954346179962\n",
      "Finished epoch 39, latest loss 0.24830064177513123\n",
      "Finished epoch 49, latest loss 0.24766437709331512\n",
      "Finished epoch 59, latest loss 0.2598118484020233\n",
      "Finished epoch 69, latest loss 0.2197066843509674\n",
      "Finished epoch 79, latest loss 0.22961576282978058\n",
      "Finished epoch 89, latest loss 0.24468353390693665\n",
      "Finished epoch 99, latest loss 0.26337918639183044\n"
     ]
    }
   ],
   "source": [
    "# Loop over the number of epochs and the dataloader\n",
    "num_of_epochs = 100\n",
    "\n",
    "for i in range(num_of_epochs):\n",
    "    model.train()\n",
    "    for data in dataloader:\n",
    "        #Set the gradients to zero\n",
    "        optimizer.zero_grad()\n",
    "        # Run a forward pass\n",
    "        X_train, y_train = data\n",
    "        prediction = model(X_train)\n",
    "        # Calculate the loss\n",
    "        loss = criterion(prediction, y_train)\n",
    "        # Compute the gradients\n",
    "        loss.backward()\n",
    "        # Update the model's parameters\n",
    "        optimizer.step()\n",
    "    if (i + 1) % 10 == 0:\n",
    "        print(f\"Finished epoch {i}, latest loss {loss}\")"
   ]
  },
  {
   "cell_type": "code",
   "execution_count": 12,
   "id": "3686cb96-e100-4c7b-b01d-9fe578810916",
   "metadata": {},
   "outputs": [
    {
     "name": "stdout",
     "output_type": "stream",
     "text": [
      "Model accuracy is 0.6424999833106995\n"
     ]
    }
   ],
   "source": [
    "# Model accuracy\n",
    "with torch.no_grad():\n",
    "    y_pred = model(X_test.float())\n",
    "\n",
    "accuracy = (y_pred.round() == y).float().mean()\n",
    "print(f\"Model accuracy is {accuracy}\")"
   ]
  },
  {
   "cell_type": "code",
   "execution_count": 13,
   "id": "3c4d0161-4d0d-43d4-83c1-632ad5d1c099",
   "metadata": {},
   "outputs": [],
   "source": [
    "# Evaluation\n",
    "model.eval()\n",
    "test_loss = 0.0\n",
    "with torch.no_grad():\n",
    "    for data in dataloader:\n",
    "        prediction = model(X_train)\n",
    "        loss = criterion(prediction, y_train)\n",
    "        test_loss += loss.item()\n",
    "        #if (i + 1) % 10 == 0:\n",
    "            #print(f\"Test Loss : {test_loss/len(dataloader)}\")"
   ]
  },
  {
   "cell_type": "code",
   "execution_count": 14,
   "id": "659b3488-ae22-4baa-b76e-332aeb762cee",
   "metadata": {
    "scrolled": true
   },
   "outputs": [],
   "source": [
    "# Import scaler object from \"Preprocessing\" notebook\n",
    "%store -r scaler"
   ]
  },
  {
   "cell_type": "code",
   "execution_count": 15,
   "id": "337ebb2e-9bd1-4942-aa64-d1aab7baaa7d",
   "metadata": {},
   "outputs": [],
   "source": [
    "# Test an input array\n",
    "def predict_new_data(test_input):\n",
    "    scaler.fit(test_input)\n",
    "    scaled_input = scaler.fit_transform(test_input)\n",
    "    test_tensor = torch.tensor(scaled_input)\n",
    "    return model(test_tensor.float())"
   ]
  },
  {
   "cell_type": "code",
   "execution_count": 16,
   "id": "522f3ee2-c5ff-4ce1-90eb-98031b7f0309",
   "metadata": {},
   "outputs": [],
   "source": [
    "# Use model to make predictions\n",
    "test_data = [\n",
    "[1, 20, 450],\n",
    "[0, 64, 150],\n",
    "[1, 32, 370],\n",
    "[0, 30, 200],\n",
    "[0, 28, 100],\n",
    "[1, 70, 350],\n",
    "[1, 61, 275],\n",
    "[1, 42, 275],\n",
    "[0, 56, 275],\n",
    "[1, 47, 375]\n",
    "]"
   ]
  },
  {
   "cell_type": "code",
   "execution_count": 17,
   "id": "c4f2f3dd-2367-4364-8129-6e0144d58d83",
   "metadata": {},
   "outputs": [
    {
     "data": {
      "text/plain": [
       "tensor([[0.2776],\n",
       "        [0.6327],\n",
       "        [0.3155],\n",
       "        [0.5477],\n",
       "        [0.5659],\n",
       "        [0.3981],\n",
       "        [0.3952],\n",
       "        [0.3550],\n",
       "        [0.5883],\n",
       "        [0.3444]], grad_fn=<SigmoidBackward0>)"
      ]
     },
     "execution_count": 17,
     "metadata": {},
     "output_type": "execute_result"
    }
   ],
   "source": [
    "# Use new data for model\n",
    "predict_new_data(test_data)"
   ]
  },
  {
   "cell_type": "code",
   "execution_count": null,
   "id": "f94de848-8108-4fc2-aefb-52455ff16462",
   "metadata": {},
   "outputs": [],
   "source": []
  }
 ],
 "metadata": {
  "kernelspec": {
   "display_name": "Python 3 (ipykernel)",
   "language": "python",
   "name": "python3"
  },
  "language_info": {
   "codemirror_mode": {
    "name": "ipython",
    "version": 3
   },
   "file_extension": ".py",
   "mimetype": "text/x-python",
   "name": "python",
   "nbconvert_exporter": "python",
   "pygments_lexer": "ipython3",
   "version": "3.12.4"
  }
 },
 "nbformat": 4,
 "nbformat_minor": 5
}
