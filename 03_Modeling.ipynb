{
 "cells": [
  {
   "cell_type": "code",
   "execution_count": 1,
   "id": "75377f55-8a05-4963-90a4-52351404e24e",
   "metadata": {},
   "outputs": [],
   "source": [
    "# Import libraries\n",
    "import torch\n",
    "import torch.nn as nn\n",
    "import pandas as pd\n",
    "import numpy as np\n",
    "import warnings\n",
    "import evaluate\n",
    "warnings.filterwarnings(\"ignore\", category=Warning)"
   ]
  },
  {
   "cell_type": "code",
   "execution_count": 2,
   "id": "119de6e6-53ab-416f-b8cc-3e72d902a487",
   "metadata": {},
   "outputs": [
    {
     "data": {
      "text/html": [
       "<div>\n",
       "<style scoped>\n",
       "    .dataframe tbody tr th:only-of-type {\n",
       "        vertical-align: middle;\n",
       "    }\n",
       "\n",
       "    .dataframe tbody tr th {\n",
       "        vertical-align: top;\n",
       "    }\n",
       "\n",
       "    .dataframe thead th {\n",
       "        text-align: right;\n",
       "    }\n",
       "</style>\n",
       "<table border=\"1\" class=\"dataframe\">\n",
       "  <thead>\n",
       "    <tr style=\"text-align: right;\">\n",
       "      <th></th>\n",
       "      <th>User ID</th>\n",
       "      <th>Gender</th>\n",
       "      <th>Age_Scaled</th>\n",
       "      <th>Salary_Scaled</th>\n",
       "      <th>Purchased</th>\n",
       "    </tr>\n",
       "  </thead>\n",
       "  <tbody>\n",
       "    <tr>\n",
       "      <th>0</th>\n",
       "      <td>15624510</td>\n",
       "      <td>1</td>\n",
       "      <td>-1.781797</td>\n",
       "      <td>-1.490046</td>\n",
       "      <td>0</td>\n",
       "    </tr>\n",
       "    <tr>\n",
       "      <th>1</th>\n",
       "      <td>15810944</td>\n",
       "      <td>1</td>\n",
       "      <td>-0.253587</td>\n",
       "      <td>-1.460681</td>\n",
       "      <td>0</td>\n",
       "    </tr>\n",
       "    <tr>\n",
       "      <th>2</th>\n",
       "      <td>15668575</td>\n",
       "      <td>0</td>\n",
       "      <td>-1.113206</td>\n",
       "      <td>-0.785290</td>\n",
       "      <td>0</td>\n",
       "    </tr>\n",
       "    <tr>\n",
       "      <th>3</th>\n",
       "      <td>15603246</td>\n",
       "      <td>0</td>\n",
       "      <td>-1.017692</td>\n",
       "      <td>-0.374182</td>\n",
       "      <td>0</td>\n",
       "    </tr>\n",
       "    <tr>\n",
       "      <th>4</th>\n",
       "      <td>15804002</td>\n",
       "      <td>1</td>\n",
       "      <td>-1.781797</td>\n",
       "      <td>0.183751</td>\n",
       "      <td>0</td>\n",
       "    </tr>\n",
       "  </tbody>\n",
       "</table>\n",
       "</div>"
      ],
      "text/plain": [
       "    User ID  Gender  Age_Scaled  Salary_Scaled  Purchased\n",
       "0  15624510       1   -1.781797      -1.490046          0\n",
       "1  15810944       1   -0.253587      -1.460681          0\n",
       "2  15668575       0   -1.113206      -0.785290          0\n",
       "3  15603246       0   -1.017692      -0.374182          0\n",
       "4  15804002       1   -1.781797       0.183751          0"
      ]
     },
     "execution_count": 2,
     "metadata": {},
     "output_type": "execute_result"
    }
   ],
   "source": [
    "# Load Data\n",
    "data = pd.read_csv(\"processed_data.csv\")\n",
    "data.head()"
   ]
  },
  {
   "cell_type": "code",
   "execution_count": 3,
   "id": "cd472872-7f74-4f08-99aa-49c19f55e176",
   "metadata": {},
   "outputs": [],
   "source": [
    "# Define features\n",
    "features = data.iloc[:, 1:-1]\n",
    "X = features.to_numpy()"
   ]
  },
  {
   "cell_type": "code",
   "execution_count": 4,
   "id": "9480ccae-37d4-4d81-8fda-f6c7c2b49e9e",
   "metadata": {},
   "outputs": [],
   "source": [
    "# Define target\n",
    "target = data[\"Purchased\"]\n",
    "y = target.to_numpy()"
   ]
  },
  {
   "cell_type": "code",
   "execution_count": 5,
   "id": "2d424f7f-0bad-49c4-90e3-f661d9b547c1",
   "metadata": {},
   "outputs": [],
   "source": [
    "# Transform target and features to tensors\n",
    "X = torch.tensor(X)\n",
    "y = torch.tensor(y)"
   ]
  },
  {
   "cell_type": "code",
   "execution_count": 6,
   "id": "a1f0bb6b-a959-4594-a645-dc3858aa3b53",
   "metadata": {},
   "outputs": [],
   "source": [
    "# For newer versions of Python/Jupyter, change default so that method config attributes always show\n",
    "from sklearn import set_config\n",
    "set_config(print_changed_only=False, display='diagram')"
   ]
  },
  {
   "cell_type": "code",
   "execution_count": 7,
   "id": "dc210325-588b-491e-853e-bee1ebdafd30",
   "metadata": {},
   "outputs": [],
   "source": [
    "# Divide data into training and testing.\n",
    "from sklearn.model_selection import train_test_split\n",
    "X_train, X_test, y_train, y_test = train_test_split(X, y, test_size=0.05, random_state=20)"
   ]
  },
  {
   "cell_type": "code",
   "execution_count": 8,
   "id": "91147c7b-720e-49e5-9554-574209fb4b8a",
   "metadata": {},
   "outputs": [],
   "source": [
    "# Create model\n",
    "in_features = features.shape[1]\n",
    "out_features = 1\n",
    "\n",
    "model = nn.Sequential(\n",
    "    nn.Linear(in_features, 2),\n",
    "    nn.Linear(2, out_features),\n",
    "    nn.Sigmoid()\n",
    ")"
   ]
  },
  {
   "cell_type": "code",
   "execution_count": 9,
   "id": "45af0574-259e-4cee-bbb3-e76c57a2bbdb",
   "metadata": {},
   "outputs": [],
   "source": [
    "# Created the dataset and the dataloader\n",
    "from torch.utils.data import TensorDataset, DataLoader\n",
    "\n",
    "dataset = TensorDataset(X_train.float(), y_train.float())\n",
    "dataloader = DataLoader(dataset, batch_size=10, shuffle=True)"
   ]
  },
  {
   "cell_type": "code",
   "execution_count": 13,
   "id": "2a1b2587-9ceb-4e7e-ab46-67a7cc31e957",
   "metadata": {},
   "outputs": [],
   "source": [
    "# Loss function\n",
    "criterion = nn.MSELoss()"
   ]
  },
  {
   "cell_type": "code",
   "execution_count": 15,
   "id": "791ac5b6-c31c-428a-843b-23c24fb1eddb",
   "metadata": {},
   "outputs": [],
   "source": [
    "# Create the optimizer\n",
    "import torch.optim as optim\n",
    "optimizer = optim.SGD(model.parameters(), lr=0.001, momentum=0.85)"
   ]
  },
  {
   "cell_type": "code",
   "execution_count": 19,
   "id": "e5e47bd5-7640-44f1-9f4e-17a2d94e6c0f",
   "metadata": {},
   "outputs": [
    {
     "name": "stdout",
     "output_type": "stream",
     "text": [
      "Finished epoch 99, latest loss 0.3489406704902649\n",
      "Finished epoch 199, latest loss 0.26889660954475403\n",
      "Finished epoch 299, latest loss 0.2711690664291382\n",
      "Finished epoch 399, latest loss 0.2138443887233734\n",
      "Finished epoch 499, latest loss 0.24317046999931335\n",
      "Finished epoch 599, latest loss 0.24188798666000366\n",
      "Finished epoch 699, latest loss 0.24218744039535522\n",
      "Finished epoch 799, latest loss 0.31861409544944763\n",
      "Finished epoch 899, latest loss 0.24282318353652954\n",
      "Finished epoch 999, latest loss 0.21339139342308044\n"
     ]
    }
   ],
   "source": [
    "# Loop over the number of epochs and the dataloader\n",
    "num_of_epochs = 1000\n",
    "\n",
    "for i in range(num_of_epochs):\n",
    "    for data in dataloader:\n",
    "        #Set the gradients to zero\n",
    "        optimizer.zero_grad()\n",
    "        # Run a forward pass\n",
    "        X_train, y_train = data\n",
    "        prediction = model(X_train)\n",
    "        # Calculate the loss\n",
    "        loss = criterion(prediction, y_train)\n",
    "        # Compute the gradients\n",
    "        loss.backward()\n",
    "        # Update the model's parameters\n",
    "        optimizer.step()\n",
    "    if (i + 1) % 100 == 0:\n",
    "        print(f\"Finished epoch {i}, latest loss {loss}\")"
   ]
  },
  {
   "cell_type": "code",
   "execution_count": 21,
   "id": "3686cb96-e100-4c7b-b01d-9fe578810916",
   "metadata": {},
   "outputs": [
    {
     "name": "stdout",
     "output_type": "stream",
     "text": [
      "Model accuracy is 0.6424999833106995\n"
     ]
    }
   ],
   "source": [
    "# Model accuracy\n",
    "with torch.no_grad():\n",
    "    y_pred = model(X_test.float())\n",
    "\n",
    "accuracy = (y_pred.round() == y).float().mean()\n",
    "print(f\"Model accuracy is {accuracy}\")"
   ]
  },
  {
   "cell_type": "code",
   "execution_count": null,
   "id": "522f3ee2-c5ff-4ce1-90eb-98031b7f0309",
   "metadata": {},
   "outputs": [],
   "source": []
  }
 ],
 "metadata": {
  "kernelspec": {
   "display_name": "Python 3 (ipykernel)",
   "language": "python",
   "name": "python3"
  },
  "language_info": {
   "codemirror_mode": {
    "name": "ipython",
    "version": 3
   },
   "file_extension": ".py",
   "mimetype": "text/x-python",
   "name": "python",
   "nbconvert_exporter": "python",
   "pygments_lexer": "ipython3",
   "version": "3.12.4"
  }
 },
 "nbformat": 4,
 "nbformat_minor": 5
}
