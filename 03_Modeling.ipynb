{
 "cells": [
  {
   "cell_type": "code",
   "execution_count": 1,
   "id": "75377f55-8a05-4963-90a4-52351404e24e",
   "metadata": {},
   "outputs": [],
   "source": [
    "# Import libraries\n",
    "import torch\n",
    "import torch.nn as nn\n",
    "import pandas as pd\n",
    "import numpy as np\n",
    "import warnings\n",
    "import evaluate\n",
    "warnings.filterwarnings(\"ignore\", category=Warning)"
   ]
  },
  {
   "cell_type": "code",
   "execution_count": 2,
   "id": "119de6e6-53ab-416f-b8cc-3e72d902a487",
   "metadata": {},
   "outputs": [
    {
     "data": {
      "text/html": [
       "<div>\n",
       "<style scoped>\n",
       "    .dataframe tbody tr th:only-of-type {\n",
       "        vertical-align: middle;\n",
       "    }\n",
       "\n",
       "    .dataframe tbody tr th {\n",
       "        vertical-align: top;\n",
       "    }\n",
       "\n",
       "    .dataframe thead th {\n",
       "        text-align: right;\n",
       "    }\n",
       "</style>\n",
       "<table border=\"1\" class=\"dataframe\">\n",
       "  <thead>\n",
       "    <tr style=\"text-align: right;\">\n",
       "      <th></th>\n",
       "      <th>User ID</th>\n",
       "      <th>Gender_Mapped</th>\n",
       "      <th>Age_Scaled</th>\n",
       "      <th>Sqrt_Salary_Scaled</th>\n",
       "      <th>Purchased</th>\n",
       "    </tr>\n",
       "  </thead>\n",
       "  <tbody>\n",
       "    <tr>\n",
       "      <th>0</th>\n",
       "      <td>15624510</td>\n",
       "      <td>1</td>\n",
       "      <td>-1.781797</td>\n",
       "      <td>-1.785227</td>\n",
       "      <td>0</td>\n",
       "    </tr>\n",
       "    <tr>\n",
       "      <th>1</th>\n",
       "      <td>15810944</td>\n",
       "      <td>1</td>\n",
       "      <td>-0.253587</td>\n",
       "      <td>-1.730989</td>\n",
       "      <td>0</td>\n",
       "    </tr>\n",
       "    <tr>\n",
       "      <th>2</th>\n",
       "      <td>15668575</td>\n",
       "      <td>0</td>\n",
       "      <td>-1.113206</td>\n",
       "      <td>-0.732165</td>\n",
       "      <td>0</td>\n",
       "    </tr>\n",
       "    <tr>\n",
       "      <th>3</th>\n",
       "      <td>15603246</td>\n",
       "      <td>0</td>\n",
       "      <td>-1.017692</td>\n",
       "      <td>-0.256825</td>\n",
       "      <td>0</td>\n",
       "    </tr>\n",
       "    <tr>\n",
       "      <th>4</th>\n",
       "      <td>15804002</td>\n",
       "      <td>1</td>\n",
       "      <td>-1.781797</td>\n",
       "      <td>0.302609</td>\n",
       "      <td>0</td>\n",
       "    </tr>\n",
       "  </tbody>\n",
       "</table>\n",
       "</div>"
      ],
      "text/plain": [
       "    User ID  Gender_Mapped  Age_Scaled  Sqrt_Salary_Scaled  Purchased\n",
       "0  15624510              1   -1.781797           -1.785227          0\n",
       "1  15810944              1   -0.253587           -1.730989          0\n",
       "2  15668575              0   -1.113206           -0.732165          0\n",
       "3  15603246              0   -1.017692           -0.256825          0\n",
       "4  15804002              1   -1.781797            0.302609          0"
      ]
     },
     "execution_count": 2,
     "metadata": {},
     "output_type": "execute_result"
    }
   ],
   "source": [
    "# Load Data\n",
    "data = pd.read_csv(\"processed_data.txt\", sep=\"|\")\n",
    "data.head()"
   ]
  },
  {
   "cell_type": "code",
   "execution_count": 3,
   "id": "cd472872-7f74-4f08-99aa-49c19f55e176",
   "metadata": {},
   "outputs": [
    {
     "data": {
      "text/plain": [
       "array([[ 1.        , -1.78179743, -1.7852271 ],\n",
       "       [ 1.        , -0.25358736, -1.73098855],\n",
       "       [ 0.        , -1.11320552, -0.73216508],\n",
       "       ...,\n",
       "       [ 0.        ,  1.17910958, -1.73098855],\n",
       "       [ 1.        , -0.15807423, -1.12151841],\n",
       "       [ 0.        ,  1.08359645, -0.99916839]])"
      ]
     },
     "execution_count": 3,
     "metadata": {},
     "output_type": "execute_result"
    }
   ],
   "source": [
    "# Define features\n",
    "features = data[[\"Gender_Mapped\", \"Age_Scaled\", \"Sqrt_Salary_Scaled\"]]\n",
    "X = features.to_numpy()\n",
    "X"
   ]
  },
  {
   "cell_type": "code",
   "execution_count": 4,
   "id": "9480ccae-37d4-4d81-8fda-f6c7c2b49e9e",
   "metadata": {},
   "outputs": [
    {
     "data": {
      "text/plain": [
       "array([0, 0, 0, 0, 0, 0, 0, 1, 0, 0, 0, 0, 0, 0, 0, 0, 1, 1, 1, 1, 1, 1,\n",
       "       1, 1, 1, 1, 1, 1, 0, 0, 0, 1, 0, 0, 0, 0, 0, 0, 0, 0, 0, 0, 0, 0,\n",
       "       0, 0, 0, 0, 1, 0, 0, 0, 0, 0, 0, 0, 0, 0, 0, 0, 0, 0, 0, 1, 0, 0,\n",
       "       0, 0, 0, 0, 0, 0, 0, 0, 0, 1, 0, 0, 0, 0, 0, 0, 0, 0, 0, 1, 0, 0,\n",
       "       0, 0, 0, 0, 0, 0, 0, 0, 0, 1, 0, 0, 0, 0, 0, 1, 0, 0, 0, 0, 0, 0,\n",
       "       0, 0, 0, 0, 0, 0, 0, 0, 0, 0, 0, 0, 0, 0, 0, 0, 0, 0, 0, 0, 0, 0,\n",
       "       0, 0, 0, 0, 0, 1, 0, 0, 0, 0, 0, 0, 0, 0, 1, 0, 0, 0, 0, 0, 0, 0,\n",
       "       0, 0, 0, 0, 0, 1, 1, 0, 0, 0, 0, 0, 0, 0, 1, 0, 0, 0, 0, 0, 0, 0,\n",
       "       0, 0, 0, 0, 0, 0, 1, 0, 0, 0, 0, 0, 0, 0, 0, 0, 0, 0, 0, 0, 0, 0,\n",
       "       0, 0, 0, 0, 1, 0, 1, 0, 1, 0, 1, 0, 1, 1, 0, 0, 0, 1, 0, 0, 0, 1,\n",
       "       0, 1, 1, 1, 0, 0, 1, 1, 0, 1, 1, 0, 1, 1, 0, 1, 0, 0, 0, 1, 1, 0,\n",
       "       1, 1, 0, 1, 0, 1, 0, 1, 0, 0, 1, 1, 0, 1, 0, 0, 1, 1, 0, 1, 1, 0,\n",
       "       1, 1, 0, 0, 1, 0, 0, 1, 1, 1, 1, 1, 0, 1, 1, 1, 1, 0, 1, 1, 0, 1,\n",
       "       0, 1, 0, 1, 1, 1, 1, 0, 0, 0, 1, 1, 0, 1, 1, 1, 1, 1, 0, 0, 0, 1,\n",
       "       1, 0, 0, 1, 0, 1, 0, 1, 1, 0, 1, 0, 1, 1, 0, 1, 1, 0, 0, 0, 1, 1,\n",
       "       0, 1, 0, 0, 1, 0, 1, 0, 0, 1, 1, 0, 0, 1, 1, 0, 1, 1, 0, 0, 1, 0,\n",
       "       1, 0, 1, 1, 1, 0, 1, 0, 1, 1, 1, 0, 1, 1, 1, 1, 0, 1, 1, 1, 0, 1,\n",
       "       0, 1, 0, 0, 1, 1, 0, 1, 1, 1, 1, 1, 1, 0, 1, 1, 1, 1, 1, 1, 0, 1,\n",
       "       1, 1, 0, 1], dtype=int64)"
      ]
     },
     "execution_count": 4,
     "metadata": {},
     "output_type": "execute_result"
    }
   ],
   "source": [
    "# Define target\n",
    "target = data[\"Purchased\"]\n",
    "y = target.to_numpy()\n",
    "y"
   ]
  },
  {
   "cell_type": "code",
   "execution_count": 5,
   "id": "2d424f7f-0bad-49c4-90e3-f661d9b547c1",
   "metadata": {},
   "outputs": [],
   "source": [
    "# Transform target and features to tensors\n",
    "X = torch.tensor(X)\n",
    "y = torch.tensor(y)"
   ]
  },
  {
   "cell_type": "code",
   "execution_count": 6,
   "id": "a1f0bb6b-a959-4594-a645-dc3858aa3b53",
   "metadata": {},
   "outputs": [],
   "source": [
    "# For newer versions of Python/Jupyter, change default so that method config attributes always show\n",
    "from sklearn import set_config\n",
    "set_config(print_changed_only=False, display='diagram')"
   ]
  },
  {
   "cell_type": "code",
   "execution_count": 7,
   "id": "dc210325-588b-491e-853e-bee1ebdafd30",
   "metadata": {},
   "outputs": [],
   "source": [
    "# Divide data into training and testing.\n",
    "from sklearn.model_selection import train_test_split\n",
    "X_train, X_test, y_train, y_test = train_test_split(X, y, test_size=0.05, random_state=20)"
   ]
  },
  {
   "cell_type": "code",
   "execution_count": 8,
   "id": "91147c7b-720e-49e5-9554-574209fb4b8a",
   "metadata": {},
   "outputs": [],
   "source": [
    "# Create model\n",
    "in_features = features.shape[1]\n",
    "out_features = 1\n",
    "\n",
    "model = nn.Sequential(\n",
    "    nn.Linear(in_features, 2),\n",
    "    nn.Linear(2, out_features),\n",
    "    nn.Sigmoid()\n",
    ")"
   ]
  },
  {
   "cell_type": "code",
   "execution_count": 9,
   "id": "45af0574-259e-4cee-bbb3-e76c57a2bbdb",
   "metadata": {},
   "outputs": [],
   "source": [
    "# Created the dataset and the dataloader\n",
    "from torch.utils.data import TensorDataset, DataLoader\n",
    "\n",
    "dataset = TensorDataset(X_train.float(), y_train.float())\n",
    "dataloader = DataLoader(dataset, batch_size=10, shuffle=True)"
   ]
  },
  {
   "cell_type": "code",
   "execution_count": 10,
   "id": "2a1b2587-9ceb-4e7e-ab46-67a7cc31e957",
   "metadata": {},
   "outputs": [],
   "source": [
    "# Loss function\n",
    "criterion = nn.MSELoss()"
   ]
  },
  {
   "cell_type": "code",
   "execution_count": 11,
   "id": "791ac5b6-c31c-428a-843b-23c24fb1eddb",
   "metadata": {},
   "outputs": [],
   "source": [
    "# Create the optimizer\n",
    "import torch.optim as optim\n",
    "optimizer = optim.SGD(model.parameters(), lr=0.0001, momentum=0.75)"
   ]
  },
  {
   "cell_type": "code",
   "execution_count": 12,
   "id": "e5e47bd5-7640-44f1-9f4e-17a2d94e6c0f",
   "metadata": {},
   "outputs": [
    {
     "name": "stdout",
     "output_type": "stream",
     "text": [
      "Finished epoch 99, latest loss 0.2606392800807953\n",
      "Finished epoch 199, latest loss 0.2524322271347046\n",
      "Finished epoch 299, latest loss 0.25743284821510315\n",
      "Finished epoch 399, latest loss 0.2446332722902298\n",
      "Finished epoch 499, latest loss 0.22877047955989838\n",
      "Finished epoch 599, latest loss 0.20430044829845428\n",
      "Finished epoch 699, latest loss 0.20698267221450806\n",
      "Finished epoch 799, latest loss 0.1968591809272766\n",
      "Finished epoch 899, latest loss 0.17555810511112213\n",
      "Finished epoch 999, latest loss 0.29173046350479126\n"
     ]
    }
   ],
   "source": [
    "# Loop over the number of epochs and the dataloader\n",
    "num_of_epochs = 1000\n",
    "\n",
    "for i in range(num_of_epochs):\n",
    "    for data in dataloader:\n",
    "        #Set the gradients to zero\n",
    "        optimizer.zero_grad()\n",
    "        # Run a forward pass\n",
    "        X_train, y_train = data\n",
    "        prediction = model(X_train)\n",
    "        # Calculate the loss\n",
    "        loss = criterion(prediction, y_train)\n",
    "        # Compute the gradients\n",
    "        loss.backward()\n",
    "        # Update the model's parameters\n",
    "        optimizer.step()\n",
    "    if (i + 1) % 100 == 0:\n",
    "        print(f\"Finished epoch {i}, latest loss {loss}\")"
   ]
  },
  {
   "cell_type": "code",
   "execution_count": 13,
   "id": "3686cb96-e100-4c7b-b01d-9fe578810916",
   "metadata": {},
   "outputs": [
    {
     "name": "stdout",
     "output_type": "stream",
     "text": [
      "Model accuracy is 0.6424999833106995\n"
     ]
    }
   ],
   "source": [
    "# Model accuracy\n",
    "with torch.no_grad():\n",
    "    y_pred = model(X_test.float())\n",
    "\n",
    "accuracy = (y_pred.round() == y).float().mean()\n",
    "print(f\"Model accuracy is {accuracy}\")"
   ]
  },
  {
   "cell_type": "code",
   "execution_count": 14,
   "id": "659b3488-ae22-4baa-b76e-332aeb762cee",
   "metadata": {
    "scrolled": true
   },
   "outputs": [],
   "source": [
    "# Import scaler object from \"Preprocessing\" notebook\n",
    "%run 02_Preprocessing.ipynb"
   ]
  },
  {
   "cell_type": "code",
   "execution_count": 15,
   "id": "337ebb2e-9bd1-4942-aa64-d1aab7baaa7d",
   "metadata": {},
   "outputs": [],
   "source": [
    "# Test an input array\n",
    "def predict_new_data(test_input):\n",
    "    scaler.fit(test_input)\n",
    "    scaled_input = scaler.fit_transform(test_input)\n",
    "    test_tensor = torch.tensor(scaled_input)\n",
    "    return model(test_tensor.float())"
   ]
  },
  {
   "cell_type": "code",
   "execution_count": null,
   "id": "522f3ee2-c5ff-4ce1-90eb-98031b7f0309",
   "metadata": {},
   "outputs": [],
   "source": [
    "# Test model\n",
    "test_data = [[0, 2.5, 4.1]]\n",
    "predict_new_data(test_data)"
   ]
  },
  {
   "cell_type": "code",
   "execution_count": null,
   "id": "da83089b-01a7-405a-91aa-43feb06cd382",
   "metadata": {},
   "outputs": [],
   "source": []
  }
 ],
 "metadata": {
  "kernelspec": {
   "display_name": "Python 3 (ipykernel)",
   "language": "python",
   "name": "python3"
  },
  "language_info": {
   "codemirror_mode": {
    "name": "ipython",
    "version": 3
   },
   "file_extension": ".py",
   "mimetype": "text/x-python",
   "name": "python",
   "nbconvert_exporter": "python",
   "pygments_lexer": "ipython3",
   "version": "3.12.4"
  }
 },
 "nbformat": 4,
 "nbformat_minor": 5
}
